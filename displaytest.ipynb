{
 "metadata": {
  "name": "displaytest"
 }, 
 "nbformat": 2, 
 "worksheets": [
  {
   "cells": [
    {
     "cell_type": "code", 
     "collapsed": false, 
     "input": [
      "from qitensor import *", 
      "ha = qudit('a', 3, latex_label='\\\\alpha')", 
      "hb = qubit('b', latex_label='\\\\beta')", 
      "x = (ha*hb).O.array()", 
      "x[{hb: 0, hb.H: 0}] = ha.O.random_unitary()", 
      "x[0,1,0,1] = 1e-3", 
      "", 
      "po_qi_save = get_qitensor_printoptions()", 
      "po_np_save = np.get_printoptions()"
     ], 
     "language": "python", 
     "outputs": [], 
     "prompt_number": 1
    }, 
    {
     "cell_type": "code", 
     "collapsed": false, 
     "input": [
      "x.space"
     ], 
     "language": "python", 
     "outputs": [
      {
       "latex": [
        "$\\left| \\alpha,\\beta \\right\\rangle\\left\\langle \\alpha,\\beta \\right|$"
       ], 
       "output_type": "pyout", 
       "prompt_number": 2, 
       "text": [
        "|a,b><a,b|"
       ]
      }
     ], 
     "prompt_number": 2
    }, 
    {
     "cell_type": "code", 
     "collapsed": false, 
     "input": [
      "x"
     ], 
     "language": "python", 
     "outputs": [
      {
       "html": [
        "<table style='margin: 0px 0px;'>", 
        "<colgroup style='border: 2px solid black;'></colgroup>", 
        "<colgroup span=2 style='border: 2px solid black;'></colgroup>", 
        "<colgroup span=2 style='border: 2px solid black;'></colgroup>", 
        "<colgroup span=2 style='border: 2px solid black;'></colgroup>", 
        "<tbody style='border: 2px solid black;'>", 
        "<tr style='border: 1px dotted; padding: 2px;'><td style='border: 1px dotted; padding: 2px; text-align: center;'> </td><td style='border: 1px dotted; padding: 2px; text-align: center;'><nobr>$\\scriptsize{\\left< 0_{\\alpha}0_{\\beta} \\right|}$</nobr></td><td style='border: 1px dotted; padding: 2px; text-align: center;'><nobr>$\\scriptsize{\\left< 0_{\\alpha}1_{\\beta} \\right|}$</nobr></td><td style='border: 1px dotted; padding: 2px; text-align: center;'><nobr>$\\scriptsize{\\left< 1_{\\alpha}0_{\\beta} \\right|}$</nobr></td><td style='border: 1px dotted; padding: 2px; text-align: center;'><nobr>$\\scriptsize{\\left< 1_{\\alpha}1_{\\beta} \\right|}$</nobr></td><td style='border: 1px dotted; padding: 2px; text-align: center;'><nobr>$\\scriptsize{\\left< 2_{\\alpha}0_{\\beta} \\right|}$</nobr></td><td style='border: 1px dotted; padding: 2px; text-align: center;'><nobr>$\\scriptsize{\\left< 2_{\\alpha}1_{\\beta} \\right|}$</nobr></td></tr>", 
        "</tbody>", 
        "<tbody style='border: 2px solid black;'>", 
        "<tr style='border: 1px dotted; padding: 2px;'><td style='border: 1px dotted; padding: 2px; text-align: center;'><nobr>$\\scriptsize{\\left| 0_{\\alpha}0_{\\beta} \\right>}$</nobr></td><td style='border: 1px dotted; padding: 2px; text-align: right;'><nobr><tt>-0.147965-0.510256j</tt></nobr></td><td style='border: 1px dotted; padding: 2px; text-align: right;'><font color='#cccccc'>0</font></td><td style='border: 1px dotted; padding: 2px; text-align: right;'><nobr><tt> 0.625976-0.206869j</tt></nobr></td><td style='border: 1px dotted; padding: 2px; text-align: right;'><font color='#cccccc'>0</font></td><td style='border: 1px dotted; padding: 2px; text-align: right;'><nobr><tt> 0.082900+0.525578j</tt></nobr></td><td style='border: 1px dotted; padding: 2px; text-align: right;'><font color='#cccccc'>0</font></td></tr>", 
        "<tr style='border: 1px dotted; padding: 2px;'><td style='border: 1px dotted; padding: 2px; text-align: center;'><nobr>$\\scriptsize{\\left| 0_{\\alpha}1_{\\beta} \\right>}$</nobr></td><td style='border: 1px dotted; padding: 2px; text-align: right;'><font color='#cccccc'>0</font></td><td style='border: 1px dotted; padding: 2px; text-align: right;'><nobr><tt> 0.001000+0.j      </tt></nobr></td><td style='border: 1px dotted; padding: 2px; text-align: right;'><font color='#cccccc'>0</font></td><td style='border: 1px dotted; padding: 2px; text-align: right;'><font color='#cccccc'>0</font></td><td style='border: 1px dotted; padding: 2px; text-align: right;'><font color='#cccccc'>0</font></td><td style='border: 1px dotted; padding: 2px; text-align: right;'><font color='#cccccc'>0</font></td></tr>", 
        "</tbody>", 
        "<tbody style='border: 2px solid black;'>", 
        "<tr style='border: 1px dotted; padding: 2px;'><td style='border: 1px dotted; padding: 2px; text-align: center;'><nobr>$\\scriptsize{\\left| 1_{\\alpha}0_{\\beta} \\right>}$</nobr></td><td style='border: 1px dotted; padding: 2px; text-align: right;'><nobr><tt>-0.405207-0.395774j</tt></nobr></td><td style='border: 1px dotted; padding: 2px; text-align: right;'><font color='#cccccc'>0</font></td><td style='border: 1px dotted; padding: 2px; text-align: right;'><nobr><tt>-0.239999+0.668607j</tt></nobr></td><td style='border: 1px dotted; padding: 2px; text-align: right;'><font color='#cccccc'>0</font></td><td style='border: 1px dotted; padding: 2px; text-align: right;'><nobr><tt> 0.417500-0.015155j</tt></nobr></td><td style='border: 1px dotted; padding: 2px; text-align: right;'><font color='#cccccc'>0</font></td></tr>", 
        "<tr style='border: 1px dotted; padding: 2px;'><td style='border: 1px dotted; padding: 2px; text-align: center;'><nobr>$\\scriptsize{\\left| 1_{\\alpha}1_{\\beta} \\right>}$</nobr></td><td style='border: 1px dotted; padding: 2px; text-align: right;'><font color='#cccccc'>0</font></td><td style='border: 1px dotted; padding: 2px; text-align: right;'><font color='#cccccc'>0</font></td><td style='border: 1px dotted; padding: 2px; text-align: right;'><font color='#cccccc'>0</font></td><td style='border: 1px dotted; padding: 2px; text-align: right;'><font color='#cccccc'>0</font></td><td style='border: 1px dotted; padding: 2px; text-align: right;'><font color='#cccccc'>0</font></td><td style='border: 1px dotted; padding: 2px; text-align: right;'><font color='#cccccc'>0</font></td></tr>", 
        "</tbody>", 
        "<tbody style='border: 2px solid black;'>", 
        "<tr style='border: 1px dotted; padding: 2px;'><td style='border: 1px dotted; padding: 2px; text-align: center;'><nobr>$\\scriptsize{\\left| 2_{\\alpha}0_{\\beta} \\right>}$</nobr></td><td style='border: 1px dotted; padding: 2px; text-align: right;'><nobr><tt> 0.100710+0.621911j</tt></nobr></td><td style='border: 1px dotted; padding: 2px; text-align: right;'><font color='#cccccc'>0</font></td><td style='border: 1px dotted; padding: 2px; text-align: right;'><nobr><tt> 0.014285+0.24601j </tt></nobr></td><td style='border: 1px dotted; padding: 2px; text-align: right;'><font color='#cccccc'>0</font></td><td style='border: 1px dotted; padding: 2px; text-align: right;'><nobr><tt> 0.325512+0.660607j</tt></nobr></td><td style='border: 1px dotted; padding: 2px; text-align: right;'><font color='#cccccc'>0</font></td></tr>", 
        "<tr style='border: 1px dotted; padding: 2px;'><td style='border: 1px dotted; padding: 2px; text-align: center;'><nobr>$\\scriptsize{\\left| 2_{\\alpha}1_{\\beta} \\right>}$</nobr></td><td style='border: 1px dotted; padding: 2px; text-align: right;'><font color='#cccccc'>0</font></td><td style='border: 1px dotted; padding: 2px; text-align: right;'><font color='#cccccc'>0</font></td><td style='border: 1px dotted; padding: 2px; text-align: right;'><font color='#cccccc'>0</font></td><td style='border: 1px dotted; padding: 2px; text-align: right;'><font color='#cccccc'>0</font></td><td style='border: 1px dotted; padding: 2px; text-align: right;'><font color='#cccccc'>0</font></td><td style='border: 1px dotted; padding: 2px; text-align: right;'><font color='#cccccc'>0</font></td></tr>", 
        "</tbody>", 
        "</table>"
       ], 
       "output_type": "pyout", 
       "prompt_number": 3, 
       "text": [
        "HilbertArray(|a,b><a,b|,", 
        "array([[[[-0.147965-0.510256j,  0.000000+0.j      ],", 
        "         [ 0.625976-0.206869j,  0.000000+0.j      ],", 
        "         [ 0.082900+0.525578j,  0.000000+0.j      ]],", 
        "", 
        "        [[ 0.000000+0.j      ,  0.001000+0.j      ],", 
        "         [ 0.000000+0.j      ,  0.000000+0.j      ],", 
        "         [ 0.000000+0.j      ,  0.000000+0.j      ]]],", 
        "", 
        "", 
        "       [[[-0.405207-0.395774j,  0.000000+0.j      ],", 
        "         [-0.239999+0.668607j,  0.000000+0.j      ],", 
        "         [ 0.417500-0.015155j,  0.000000+0.j      ]],", 
        "", 
        "        [[ 0.000000+0.j      ,  0.000000+0.j      ],", 
        "         [ 0.000000+0.j      ,  0.000000+0.j      ],", 
        "         [ 0.000000+0.j      ,  0.000000+0.j      ]]],", 
        "", 
        "", 
        "       [[[ 0.100710+0.621911j,  0.000000+0.j      ],", 
        "         [ 0.014285+0.24601j ,  0.000000+0.j      ],", 
        "         [ 0.325512+0.660607j,  0.000000+0.j      ]],", 
        "", 
        "        [[ 0.000000+0.j      ,  0.000000+0.j      ],", 
        "         [ 0.000000+0.j      ,  0.000000+0.j      ],", 
        "         [ 0.000000+0.j      ,  0.000000+0.j      ]]]]))"
       ]
      }
     ], 
     "prompt_number": 3
    }, 
    {
     "cell_type": "code", 
     "collapsed": false, 
     "input": [
      "set_qitensor_printoptions(zero_color_html='lightgreen')", 
      "np.set_printoptions(precision=2, suppress=True)", 
      "x"
     ], 
     "language": "python", 
     "outputs": [
      {
       "html": [
        "<table style='margin: 0px 0px;'>", 
        "<colgroup style='border: 2px solid black;'></colgroup>", 
        "<colgroup span=2 style='border: 2px solid black;'></colgroup>", 
        "<colgroup span=2 style='border: 2px solid black;'></colgroup>", 
        "<colgroup span=2 style='border: 2px solid black;'></colgroup>", 
        "<tbody style='border: 2px solid black;'>", 
        "<tr style='border: 1px dotted; padding: 2px;'><td style='border: 1px dotted; padding: 2px; text-align: center;'> </td><td style='border: 1px dotted; padding: 2px; text-align: center;'><nobr>$\\scriptsize{\\left< 0_{\\alpha}0_{\\beta} \\right|}$</nobr></td><td style='border: 1px dotted; padding: 2px; text-align: center;'><nobr>$\\scriptsize{\\left< 0_{\\alpha}1_{\\beta} \\right|}$</nobr></td><td style='border: 1px dotted; padding: 2px; text-align: center;'><nobr>$\\scriptsize{\\left< 1_{\\alpha}0_{\\beta} \\right|}$</nobr></td><td style='border: 1px dotted; padding: 2px; text-align: center;'><nobr>$\\scriptsize{\\left< 1_{\\alpha}1_{\\beta} \\right|}$</nobr></td><td style='border: 1px dotted; padding: 2px; text-align: center;'><nobr>$\\scriptsize{\\left< 2_{\\alpha}0_{\\beta} \\right|}$</nobr></td><td style='border: 1px dotted; padding: 2px; text-align: center;'><nobr>$\\scriptsize{\\left< 2_{\\alpha}1_{\\beta} \\right|}$</nobr></td></tr>", 
        "</tbody>", 
        "<tbody style='border: 2px solid black;'>", 
        "<tr style='border: 1px dotted; padding: 2px;'><td style='border: 1px dotted; padding: 2px; text-align: center;'><nobr>$\\scriptsize{\\left| 0_{\\alpha}0_{\\beta} \\right>}$</nobr></td><td style='border: 1px dotted; padding: 2px; text-align: right;'><nobr><tt>-0.15-0.51j</tt></nobr></td><td style='border: 1px dotted; padding: 2px; text-align: right;'><font color='lightgreen'>0</font></td><td style='border: 1px dotted; padding: 2px; text-align: right;'><nobr><tt> 0.63-0.21j</tt></nobr></td><td style='border: 1px dotted; padding: 2px; text-align: right;'><font color='lightgreen'>0</font></td><td style='border: 1px dotted; padding: 2px; text-align: right;'><nobr><tt> 0.08+0.53j</tt></nobr></td><td style='border: 1px dotted; padding: 2px; text-align: right;'><font color='lightgreen'>0</font></td></tr>", 
        "<tr style='border: 1px dotted; padding: 2px;'><td style='border: 1px dotted; padding: 2px; text-align: center;'><nobr>$\\scriptsize{\\left| 0_{\\alpha}1_{\\beta} \\right>}$</nobr></td><td style='border: 1px dotted; padding: 2px; text-align: right;'><font color='lightgreen'>0</font></td><td style='border: 1px dotted; padding: 2px; text-align: right;'><font color='lightgreen'>0</font></td><td style='border: 1px dotted; padding: 2px; text-align: right;'><font color='lightgreen'>0</font></td><td style='border: 1px dotted; padding: 2px; text-align: right;'><font color='lightgreen'>0</font></td><td style='border: 1px dotted; padding: 2px; text-align: right;'><font color='lightgreen'>0</font></td><td style='border: 1px dotted; padding: 2px; text-align: right;'><font color='lightgreen'>0</font></td></tr>", 
        "</tbody>", 
        "<tbody style='border: 2px solid black;'>", 
        "<tr style='border: 1px dotted; padding: 2px;'><td style='border: 1px dotted; padding: 2px; text-align: center;'><nobr>$\\scriptsize{\\left| 1_{\\alpha}0_{\\beta} \\right>}$</nobr></td><td style='border: 1px dotted; padding: 2px; text-align: right;'><nobr><tt>-0.41-0.4j </tt></nobr></td><td style='border: 1px dotted; padding: 2px; text-align: right;'><font color='lightgreen'>0</font></td><td style='border: 1px dotted; padding: 2px; text-align: right;'><nobr><tt>-0.24+0.67j</tt></nobr></td><td style='border: 1px dotted; padding: 2px; text-align: right;'><font color='lightgreen'>0</font></td><td style='border: 1px dotted; padding: 2px; text-align: right;'><nobr><tt> 0.42-0.02j</tt></nobr></td><td style='border: 1px dotted; padding: 2px; text-align: right;'><font color='lightgreen'>0</font></td></tr>", 
        "<tr style='border: 1px dotted; padding: 2px;'><td style='border: 1px dotted; padding: 2px; text-align: center;'><nobr>$\\scriptsize{\\left| 1_{\\alpha}1_{\\beta} \\right>}$</nobr></td><td style='border: 1px dotted; padding: 2px; text-align: right;'><font color='lightgreen'>0</font></td><td style='border: 1px dotted; padding: 2px; text-align: right;'><font color='lightgreen'>0</font></td><td style='border: 1px dotted; padding: 2px; text-align: right;'><font color='lightgreen'>0</font></td><td style='border: 1px dotted; padding: 2px; text-align: right;'><font color='lightgreen'>0</font></td><td style='border: 1px dotted; padding: 2px; text-align: right;'><font color='lightgreen'>0</font></td><td style='border: 1px dotted; padding: 2px; text-align: right;'><font color='lightgreen'>0</font></td></tr>", 
        "</tbody>", 
        "<tbody style='border: 2px solid black;'>", 
        "<tr style='border: 1px dotted; padding: 2px;'><td style='border: 1px dotted; padding: 2px; text-align: center;'><nobr>$\\scriptsize{\\left| 2_{\\alpha}0_{\\beta} \\right>}$</nobr></td><td style='border: 1px dotted; padding: 2px; text-align: right;'><nobr><tt> 0.10+0.62j</tt></nobr></td><td style='border: 1px dotted; padding: 2px; text-align: right;'><font color='lightgreen'>0</font></td><td style='border: 1px dotted; padding: 2px; text-align: right;'><nobr><tt> 0.01+0.25j</tt></nobr></td><td style='border: 1px dotted; padding: 2px; text-align: right;'><font color='lightgreen'>0</font></td><td style='border: 1px dotted; padding: 2px; text-align: right;'><nobr><tt> 0.33+0.66j</tt></nobr></td><td style='border: 1px dotted; padding: 2px; text-align: right;'><font color='lightgreen'>0</font></td></tr>", 
        "<tr style='border: 1px dotted; padding: 2px;'><td style='border: 1px dotted; padding: 2px; text-align: center;'><nobr>$\\scriptsize{\\left| 2_{\\alpha}1_{\\beta} \\right>}$</nobr></td><td style='border: 1px dotted; padding: 2px; text-align: right;'><font color='lightgreen'>0</font></td><td style='border: 1px dotted; padding: 2px; text-align: right;'><font color='lightgreen'>0</font></td><td style='border: 1px dotted; padding: 2px; text-align: right;'><font color='lightgreen'>0</font></td><td style='border: 1px dotted; padding: 2px; text-align: right;'><font color='lightgreen'>0</font></td><td style='border: 1px dotted; padding: 2px; text-align: right;'><font color='lightgreen'>0</font></td><td style='border: 1px dotted; padding: 2px; text-align: right;'><font color='lightgreen'>0</font></td></tr>", 
        "</tbody>", 
        "</table>"
       ], 
       "output_type": "pyout", 
       "prompt_number": 4, 
       "text": [
        "HilbertArray(|a,b><a,b|,", 
        "array([[[[-0.15-0.51j,  0.00+0.j  ],", 
        "         [ 0.63-0.21j,  0.00+0.j  ],", 
        "         [ 0.08+0.53j,  0.00+0.j  ]],", 
        "", 
        "        [[ 0.00+0.j  ,  0.00+0.j  ],", 
        "         [ 0.00+0.j  ,  0.00+0.j  ],", 
        "         [ 0.00+0.j  ,  0.00+0.j  ]]],", 
        "", 
        "", 
        "       [[[-0.41-0.4j ,  0.00+0.j  ],", 
        "         [-0.24+0.67j,  0.00+0.j  ],", 
        "         [ 0.42-0.02j,  0.00+0.j  ]],", 
        "", 
        "        [[ 0.00+0.j  ,  0.00+0.j  ],", 
        "         [ 0.00+0.j  ,  0.00+0.j  ],", 
        "         [ 0.00+0.j  ,  0.00+0.j  ]]],", 
        "", 
        "", 
        "       [[[ 0.10+0.62j,  0.00+0.j  ],", 
        "         [ 0.01+0.25j,  0.00+0.j  ],", 
        "         [ 0.33+0.66j,  0.00+0.j  ]],", 
        "", 
        "        [[ 0.00+0.j  ,  0.00+0.j  ],", 
        "         [ 0.00+0.j  ,  0.00+0.j  ],", 
        "         [ 0.00+0.j  ,  0.00+0.j  ]]]]))"
       ]
      }
     ], 
     "prompt_number": 4
    }, 
    {
     "cell_type": "code", 
     "collapsed": false, 
     "input": [
      "set_qitensor_printoptions(ipy_table_format_mode='latex', zero_color_latex='orange')", 
      "x"
     ], 
     "language": "python", 
     "outputs": [
      {
       "latex": [
        "$$\\scriptsize{\\begin{array}{|l|cc|cc|cc|}", 
        "\\hline", 
        "&\\left< 0_{\\alpha}0_{\\beta} \\right| & \\left< 0_{\\alpha}1_{\\beta} \\right| & \\left< 1_{\\alpha}0_{\\beta} \\right| & \\left< 1_{\\alpha}1_{\\beta} \\right| & \\left< 2_{\\alpha}0_{\\beta} \\right| & \\left< 2_{\\alpha}1_{\\beta} \\right| \\\\", 
        "\\hline", 
        "\\left| 0_{\\alpha}0_{\\beta} \\right> & -0.15-0.51j & \\color{orange}{0} &  0.63-0.21j & \\color{orange}{0} &  0.08+0.53j & \\color{orange}{0} \\\\", 
        "\\left| 0_{\\alpha}1_{\\beta} \\right> & \\color{orange}{0} & \\color{orange}{0} & \\color{orange}{0} & \\color{orange}{0} & \\color{orange}{0} & \\color{orange}{0} \\\\", 
        "\\hline", 
        "\\left| 1_{\\alpha}0_{\\beta} \\right> & -0.41-0.4j  & \\color{orange}{0} & -0.24+0.67j & \\color{orange}{0} &  0.42-0.02j & \\color{orange}{0} \\\\", 
        "\\left| 1_{\\alpha}1_{\\beta} \\right> & \\color{orange}{0} & \\color{orange}{0} & \\color{orange}{0} & \\color{orange}{0} & \\color{orange}{0} & \\color{orange}{0} \\\\", 
        "\\hline", 
        "\\left| 2_{\\alpha}0_{\\beta} \\right> &  0.10+0.62j & \\color{orange}{0} &  0.01+0.25j & \\color{orange}{0} &  0.33+0.66j & \\color{orange}{0} \\\\", 
        "\\left| 2_{\\alpha}1_{\\beta} \\right> & \\color{orange}{0} & \\color{orange}{0} & \\color{orange}{0} & \\color{orange}{0} & \\color{orange}{0} & \\color{orange}{0} \\\\", 
        "\\hline", 
        "\\end{array}", 
        "}$$"
       ], 
       "output_type": "pyout", 
       "prompt_number": 5, 
       "text": [
        "HilbertArray(|a,b><a,b|,", 
        "array([[[[-0.15-0.51j,  0.00+0.j  ],", 
        "         [ 0.63-0.21j,  0.00+0.j  ],", 
        "         [ 0.08+0.53j,  0.00+0.j  ]],", 
        "", 
        "        [[ 0.00+0.j  ,  0.00+0.j  ],", 
        "         [ 0.00+0.j  ,  0.00+0.j  ],", 
        "         [ 0.00+0.j  ,  0.00+0.j  ]]],", 
        "", 
        "", 
        "       [[[-0.41-0.4j ,  0.00+0.j  ],", 
        "         [-0.24+0.67j,  0.00+0.j  ],", 
        "         [ 0.42-0.02j,  0.00+0.j  ]],", 
        "", 
        "        [[ 0.00+0.j  ,  0.00+0.j  ],", 
        "         [ 0.00+0.j  ,  0.00+0.j  ],", 
        "         [ 0.00+0.j  ,  0.00+0.j  ]]],", 
        "", 
        "", 
        "       [[[ 0.10+0.62j,  0.00+0.j  ],", 
        "         [ 0.01+0.25j,  0.00+0.j  ],", 
        "         [ 0.33+0.66j,  0.00+0.j  ]],", 
        "", 
        "        [[ 0.00+0.j  ,  0.00+0.j  ],", 
        "         [ 0.00+0.j  ,  0.00+0.j  ],", 
        "         [ 0.00+0.j  ,  0.00+0.j  ]]]]))"
       ]
      }
     ], 
     "prompt_number": 5
    }, 
    {
     "cell_type": "code", 
     "collapsed": false, 
     "input": [
      "set_qitensor_printoptions(ipy_table_format_mode='plain')", 
      "x"
     ], 
     "language": "python", 
     "outputs": [
      {
       "output_type": "pyout", 
       "prompt_number": 6, 
       "text": [
        "HilbertArray(|a,b><a,b|,", 
        "array([[[[-0.15-0.51j,  0.00+0.j  ],", 
        "         [ 0.63-0.21j,  0.00+0.j  ],", 
        "         [ 0.08+0.53j,  0.00+0.j  ]],", 
        "", 
        "        [[ 0.00+0.j  ,  0.00+0.j  ],", 
        "         [ 0.00+0.j  ,  0.00+0.j  ],", 
        "         [ 0.00+0.j  ,  0.00+0.j  ]]],", 
        "", 
        "", 
        "       [[[-0.41-0.4j ,  0.00+0.j  ],", 
        "         [-0.24+0.67j,  0.00+0.j  ],", 
        "         [ 0.42-0.02j,  0.00+0.j  ]],", 
        "", 
        "        [[ 0.00+0.j  ,  0.00+0.j  ],", 
        "         [ 0.00+0.j  ,  0.00+0.j  ],", 
        "         [ 0.00+0.j  ,  0.00+0.j  ]]],", 
        "", 
        "", 
        "       [[[ 0.10+0.62j,  0.00+0.j  ],", 
        "         [ 0.01+0.25j,  0.00+0.j  ],", 
        "         [ 0.33+0.66j,  0.00+0.j  ]],", 
        "", 
        "        [[ 0.00+0.j  ,  0.00+0.j  ],", 
        "         [ 0.00+0.j  ,  0.00+0.j  ],", 
        "         [ 0.00+0.j  ,  0.00+0.j  ]]]]))"
       ]
      }
     ], 
     "prompt_number": 6
    }, 
    {
     "cell_type": "code", 
     "collapsed": true, 
     "input": [
      "set_qitensor_printoptions(**po_qi_save)", 
      "np.set_printoptions(**po_np_save)"
     ], 
     "language": "python", 
     "outputs": [], 
     "prompt_number": 7
    }
   ]
  }
 ]
}