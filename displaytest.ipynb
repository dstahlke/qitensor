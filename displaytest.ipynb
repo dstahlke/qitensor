{
 "metadata": {
  "name": "displaytest"
 }, 
 "nbformat": 2, 
 "worksheets": [
  {
   "cells": [
    {
     "cell_type": "code", 
     "collapsed": false, 
     "input": [
      "from qitensor import *", 
      "ha = qudit('a', 3, latex_label='\\\\alpha')", 
      "hb = qubit('b', latex_label='\\\\beta')"
     ], 
     "language": "python", 
     "outputs": [], 
     "prompt_number": 1
    }, 
    {
     "cell_type": "code", 
     "collapsed": false, 
     "input": [
      "x = (ha*hb).O.array()", 
      "x[{hb: 0, hb.H: 0}] = ha.O.random_unitary()", 
      "x[0,1,0,1] = 1e-3", 
      "x"
     ], 
     "language": "python", 
     "outputs": [
      {
       "html": [
        "<table style='margin: 0px 0px;'>", 
        "<colgroup style='border: 2px solid black;'></colgroup>", 
        "<colgroup span=2 style='border: 2px solid black;'></colgroup>", 
        "<colgroup span=2 style='border: 2px solid black;'></colgroup>", 
        "<colgroup span=2 style='border: 2px solid black;'></colgroup>", 
        "<tbody style='border: 2px solid black;'>", 
        "<tr style='border: 1px dotted; padding: 2px;'><td style='border: 1px dotted; padding: 2px; text-align: center;'> </td><td style='border: 1px dotted; padding: 2px; text-align: center;'><nobr>$\\left< 0_{\\alpha}0_{\\beta} \\right|$</nobr></td><td style='border: 1px dotted; padding: 2px; text-align: center;'><nobr>$\\left< 0_{\\alpha}1_{\\beta} \\right|$</nobr></td><td style='border: 1px dotted; padding: 2px; text-align: center;'><nobr>$\\left< 1_{\\alpha}0_{\\beta} \\right|$</nobr></td><td style='border: 1px dotted; padding: 2px; text-align: center;'><nobr>$\\left< 1_{\\alpha}1_{\\beta} \\right|$</nobr></td><td style='border: 1px dotted; padding: 2px; text-align: center;'><nobr>$\\left< 2_{\\alpha}0_{\\beta} \\right|$</nobr></td><td style='border: 1px dotted; padding: 2px; text-align: center;'><nobr>$\\left< 2_{\\alpha}1_{\\beta} \\right|$</nobr></td></tr>", 
        "</tbody>", 
        "<tbody style='border: 2px solid black;'>", 
        "<tr style='border: 1px dotted; padding: 2px;'><td style='border: 1px dotted; padding: 2px; text-align: center;'><nobr>$\\left| 0_{\\alpha}0_{\\beta} \\right>$</nobr></td><td style='border: 1px dotted; padding: 2px; text-align: right;'><nobr><tt>-0.595189+0.13691j </tt></nobr></td><td style='border: 1px dotted; padding: 2px; text-align: right;'><font color='#cccccc'>0</font></td><td style='border: 1px dotted; padding: 2px; text-align: right;'><nobr><tt> 0.048911+0.591515j</tt></nobr></td><td style='border: 1px dotted; padding: 2px; text-align: right;'><font color='#cccccc'>0</font></td><td style='border: 1px dotted; padding: 2px; text-align: right;'><nobr><tt> 0.402585-0.335631j</tt></nobr></td><td style='border: 1px dotted; padding: 2px; text-align: right;'><font color='#cccccc'>0</font></td></tr>", 
        "<tr style='border: 1px dotted; padding: 2px;'><td style='border: 1px dotted; padding: 2px; text-align: center;'><nobr>$\\left| 0_{\\alpha}1_{\\beta} \\right>$</nobr></td><td style='border: 1px dotted; padding: 2px; text-align: right;'><font color='#cccccc'>0</font></td><td style='border: 1px dotted; padding: 2px; text-align: right;'><nobr><tt> 0.001000+0.j      </tt></nobr></td><td style='border: 1px dotted; padding: 2px; text-align: right;'><font color='#cccccc'>0</font></td><td style='border: 1px dotted; padding: 2px; text-align: right;'><font color='#cccccc'>0</font></td><td style='border: 1px dotted; padding: 2px; text-align: right;'><font color='#cccccc'>0</font></td><td style='border: 1px dotted; padding: 2px; text-align: right;'><font color='#cccccc'>0</font></td></tr>", 
        "</tbody>", 
        "<tbody style='border: 2px solid black;'>", 
        "<tr style='border: 1px dotted; padding: 2px;'><td style='border: 1px dotted; padding: 2px; text-align: center;'><nobr>$\\left| 1_{\\alpha}0_{\\beta} \\right>$</nobr></td><td style='border: 1px dotted; padding: 2px; text-align: right;'><nobr><tt>-0.295447+0.354999j</tt></nobr></td><td style='border: 1px dotted; padding: 2px; text-align: right;'><font color='#cccccc'>0</font></td><td style='border: 1px dotted; padding: 2px; text-align: right;'><nobr><tt>-0.285880+0.328456j</tt></nobr></td><td style='border: 1px dotted; padding: 2px; text-align: right;'><font color='#cccccc'>0</font></td><td style='border: 1px dotted; padding: 2px; text-align: right;'><nobr><tt>-0.610637+0.473497j</tt></nobr></td><td style='border: 1px dotted; padding: 2px; text-align: right;'><font color='#cccccc'>0</font></td></tr>", 
        "<tr style='border: 1px dotted; padding: 2px;'><td style='border: 1px dotted; padding: 2px; text-align: center;'><nobr>$\\left| 1_{\\alpha}1_{\\beta} \\right>$</nobr></td><td style='border: 1px dotted; padding: 2px; text-align: right;'><font color='#cccccc'>0</font></td><td style='border: 1px dotted; padding: 2px; text-align: right;'><font color='#cccccc'>0</font></td><td style='border: 1px dotted; padding: 2px; text-align: right;'><font color='#cccccc'>0</font></td><td style='border: 1px dotted; padding: 2px; text-align: right;'><font color='#cccccc'>0</font></td><td style='border: 1px dotted; padding: 2px; text-align: right;'><font color='#cccccc'>0</font></td><td style='border: 1px dotted; padding: 2px; text-align: right;'><font color='#cccccc'>0</font></td></tr>", 
        "</tbody>", 
        "<tbody style='border: 2px solid black;'>", 
        "<tr style='border: 1px dotted; padding: 2px;'><td style='border: 1px dotted; padding: 2px; text-align: center;'><nobr>$\\left| 2_{\\alpha}0_{\\beta} \\right>$</nobr></td><td style='border: 1px dotted; padding: 2px; text-align: right;'><nobr><tt> 0.630939+0.124936j</tt></nobr></td><td style='border: 1px dotted; padding: 2px; text-align: right;'><font color='#cccccc'>0</font></td><td style='border: 1px dotted; padding: 2px; text-align: right;'><nobr><tt>-0.492767+0.463991j</tt></nobr></td><td style='border: 1px dotted; padding: 2px; text-align: right;'><font color='#cccccc'>0</font></td><td style='border: 1px dotted; padding: 2px; text-align: right;'><nobr><tt>-0.029084-0.356868j</tt></nobr></td><td style='border: 1px dotted; padding: 2px; text-align: right;'><font color='#cccccc'>0</font></td></tr>", 
        "<tr style='border: 1px dotted; padding: 2px;'><td style='border: 1px dotted; padding: 2px; text-align: center;'><nobr>$\\left| 2_{\\alpha}1_{\\beta} \\right>$</nobr></td><td style='border: 1px dotted; padding: 2px; text-align: right;'><font color='#cccccc'>0</font></td><td style='border: 1px dotted; padding: 2px; text-align: right;'><font color='#cccccc'>0</font></td><td style='border: 1px dotted; padding: 2px; text-align: right;'><font color='#cccccc'>0</font></td><td style='border: 1px dotted; padding: 2px; text-align: right;'><font color='#cccccc'>0</font></td><td style='border: 1px dotted; padding: 2px; text-align: right;'><font color='#cccccc'>0</font></td><td style='border: 1px dotted; padding: 2px; text-align: right;'><font color='#cccccc'>0</font></td></tr>", 
        "</tbody>", 
        "</table>"
       ], 
       "output_type": "pyout", 
       "prompt_number": 2, 
       "text": [
        "HilbertArray(|a,b><a,b|,", 
        "array([[[[-0.595189+0.13691j ,  0.000000+0.j      ],", 
        "         [ 0.048911+0.591515j,  0.000000+0.j      ],", 
        "         [ 0.402585-0.335631j,  0.000000+0.j      ]],", 
        "", 
        "        [[ 0.000000+0.j      ,  0.001000+0.j      ],", 
        "         [ 0.000000+0.j      ,  0.000000+0.j      ],", 
        "         [ 0.000000+0.j      ,  0.000000+0.j      ]]],", 
        "", 
        "", 
        "       [[[-0.295447+0.354999j,  0.000000+0.j      ],", 
        "         [-0.285880+0.328456j,  0.000000+0.j      ],", 
        "         [-0.610637+0.473497j,  0.000000+0.j      ]],", 
        "", 
        "        [[ 0.000000+0.j      ,  0.000000+0.j      ],", 
        "         [ 0.000000+0.j      ,  0.000000+0.j      ],", 
        "         [ 0.000000+0.j      ,  0.000000+0.j      ]]],", 
        "", 
        "", 
        "       [[[ 0.630939+0.124936j,  0.000000+0.j      ],", 
        "         [-0.492767+0.463991j,  0.000000+0.j      ],", 
        "         [-0.029084-0.356868j,  0.000000+0.j      ]],", 
        "", 
        "        [[ 0.000000+0.j      ,  0.000000+0.j      ],", 
        "         [ 0.000000+0.j      ,  0.000000+0.j      ],", 
        "         [ 0.000000+0.j      ,  0.000000+0.j      ]]]]))"
       ]
      }
     ], 
     "prompt_number": 2
    }, 
    {
     "cell_type": "code", 
     "collapsed": false, 
     "input": [
      "set_qitensor_printoptions(zero_color_html='lightgreen')", 
      "np.set_printoptions(precision=3, suppress=True)", 
      "x"
     ], 
     "language": "python", 
     "outputs": [
      {
       "html": [
        "<table style='margin: 0px 0px;'>", 
        "<colgroup style='border: 2px solid black;'></colgroup>", 
        "<colgroup span=2 style='border: 2px solid black;'></colgroup>", 
        "<colgroup span=2 style='border: 2px solid black;'></colgroup>", 
        "<colgroup span=2 style='border: 2px solid black;'></colgroup>", 
        "<tbody style='border: 2px solid black;'>", 
        "<tr style='border: 1px dotted; padding: 2px;'><td style='border: 1px dotted; padding: 2px; text-align: center;'> </td><td style='border: 1px dotted; padding: 2px; text-align: center;'><nobr>$\\left< 0_{\\alpha}0_{\\beta} \\right|$</nobr></td><td style='border: 1px dotted; padding: 2px; text-align: center;'><nobr>$\\left< 0_{\\alpha}1_{\\beta} \\right|$</nobr></td><td style='border: 1px dotted; padding: 2px; text-align: center;'><nobr>$\\left< 1_{\\alpha}0_{\\beta} \\right|$</nobr></td><td style='border: 1px dotted; padding: 2px; text-align: center;'><nobr>$\\left< 1_{\\alpha}1_{\\beta} \\right|$</nobr></td><td style='border: 1px dotted; padding: 2px; text-align: center;'><nobr>$\\left< 2_{\\alpha}0_{\\beta} \\right|$</nobr></td><td style='border: 1px dotted; padding: 2px; text-align: center;'><nobr>$\\left< 2_{\\alpha}1_{\\beta} \\right|$</nobr></td></tr>", 
        "</tbody>", 
        "<tbody style='border: 2px solid black;'>", 
        "<tr style='border: 1px dotted; padding: 2px;'><td style='border: 1px dotted; padding: 2px; text-align: center;'><nobr>$\\left| 0_{\\alpha}0_{\\beta} \\right>$</nobr></td><td style='border: 1px dotted; padding: 2px; text-align: right;'><nobr><tt>-0.595+0.137j</tt></nobr></td><td style='border: 1px dotted; padding: 2px; text-align: right;'><font color='lightgreen'>0</font></td><td style='border: 1px dotted; padding: 2px; text-align: right;'><nobr><tt> 0.049+0.592j</tt></nobr></td><td style='border: 1px dotted; padding: 2px; text-align: right;'><font color='lightgreen'>0</font></td><td style='border: 1px dotted; padding: 2px; text-align: right;'><nobr><tt> 0.403-0.336j</tt></nobr></td><td style='border: 1px dotted; padding: 2px; text-align: right;'><font color='lightgreen'>0</font></td></tr>", 
        "<tr style='border: 1px dotted; padding: 2px;'><td style='border: 1px dotted; padding: 2px; text-align: center;'><nobr>$\\left| 0_{\\alpha}1_{\\beta} \\right>$</nobr></td><td style='border: 1px dotted; padding: 2px; text-align: right;'><font color='lightgreen'>0</font></td><td style='border: 1px dotted; padding: 2px; text-align: right;'><font color='lightgreen'>0</font></td><td style='border: 1px dotted; padding: 2px; text-align: right;'><font color='lightgreen'>0</font></td><td style='border: 1px dotted; padding: 2px; text-align: right;'><font color='lightgreen'>0</font></td><td style='border: 1px dotted; padding: 2px; text-align: right;'><font color='lightgreen'>0</font></td><td style='border: 1px dotted; padding: 2px; text-align: right;'><font color='lightgreen'>0</font></td></tr>", 
        "</tbody>", 
        "<tbody style='border: 2px solid black;'>", 
        "<tr style='border: 1px dotted; padding: 2px;'><td style='border: 1px dotted; padding: 2px; text-align: center;'><nobr>$\\left| 1_{\\alpha}0_{\\beta} \\right>$</nobr></td><td style='border: 1px dotted; padding: 2px; text-align: right;'><nobr><tt>-0.295+0.355j</tt></nobr></td><td style='border: 1px dotted; padding: 2px; text-align: right;'><font color='lightgreen'>0</font></td><td style='border: 1px dotted; padding: 2px; text-align: right;'><nobr><tt>-0.286+0.328j</tt></nobr></td><td style='border: 1px dotted; padding: 2px; text-align: right;'><font color='lightgreen'>0</font></td><td style='border: 1px dotted; padding: 2px; text-align: right;'><nobr><tt>-0.611+0.473j</tt></nobr></td><td style='border: 1px dotted; padding: 2px; text-align: right;'><font color='lightgreen'>0</font></td></tr>", 
        "<tr style='border: 1px dotted; padding: 2px;'><td style='border: 1px dotted; padding: 2px; text-align: center;'><nobr>$\\left| 1_{\\alpha}1_{\\beta} \\right>$</nobr></td><td style='border: 1px dotted; padding: 2px; text-align: right;'><font color='lightgreen'>0</font></td><td style='border: 1px dotted; padding: 2px; text-align: right;'><font color='lightgreen'>0</font></td><td style='border: 1px dotted; padding: 2px; text-align: right;'><font color='lightgreen'>0</font></td><td style='border: 1px dotted; padding: 2px; text-align: right;'><font color='lightgreen'>0</font></td><td style='border: 1px dotted; padding: 2px; text-align: right;'><font color='lightgreen'>0</font></td><td style='border: 1px dotted; padding: 2px; text-align: right;'><font color='lightgreen'>0</font></td></tr>", 
        "</tbody>", 
        "<tbody style='border: 2px solid black;'>", 
        "<tr style='border: 1px dotted; padding: 2px;'><td style='border: 1px dotted; padding: 2px; text-align: center;'><nobr>$\\left| 2_{\\alpha}0_{\\beta} \\right>$</nobr></td><td style='border: 1px dotted; padding: 2px; text-align: right;'><nobr><tt> 0.631+0.125j</tt></nobr></td><td style='border: 1px dotted; padding: 2px; text-align: right;'><font color='lightgreen'>0</font></td><td style='border: 1px dotted; padding: 2px; text-align: right;'><nobr><tt>-0.493+0.464j</tt></nobr></td><td style='border: 1px dotted; padding: 2px; text-align: right;'><font color='lightgreen'>0</font></td><td style='border: 1px dotted; padding: 2px; text-align: right;'><nobr><tt>-0.029-0.357j</tt></nobr></td><td style='border: 1px dotted; padding: 2px; text-align: right;'><font color='lightgreen'>0</font></td></tr>", 
        "<tr style='border: 1px dotted; padding: 2px;'><td style='border: 1px dotted; padding: 2px; text-align: center;'><nobr>$\\left| 2_{\\alpha}1_{\\beta} \\right>$</nobr></td><td style='border: 1px dotted; padding: 2px; text-align: right;'><font color='lightgreen'>0</font></td><td style='border: 1px dotted; padding: 2px; text-align: right;'><font color='lightgreen'>0</font></td><td style='border: 1px dotted; padding: 2px; text-align: right;'><font color='lightgreen'>0</font></td><td style='border: 1px dotted; padding: 2px; text-align: right;'><font color='lightgreen'>0</font></td><td style='border: 1px dotted; padding: 2px; text-align: right;'><font color='lightgreen'>0</font></td><td style='border: 1px dotted; padding: 2px; text-align: right;'><font color='lightgreen'>0</font></td></tr>", 
        "</tbody>", 
        "</table>"
       ], 
       "output_type": "pyout", 
       "prompt_number": 3, 
       "text": [
        "HilbertArray(|a,b><a,b|,", 
        "array([[[[-0.595+0.137j,  0.000+0.j   ],", 
        "         [ 0.049+0.592j,  0.000+0.j   ],", 
        "         [ 0.403-0.336j,  0.000+0.j   ]],", 
        "", 
        "        [[ 0.000+0.j   ,  0.001+0.j   ],", 
        "         [ 0.000+0.j   ,  0.000+0.j   ],", 
        "         [ 0.000+0.j   ,  0.000+0.j   ]]],", 
        "", 
        "", 
        "       [[[-0.295+0.355j,  0.000+0.j   ],", 
        "         [-0.286+0.328j,  0.000+0.j   ],", 
        "         [-0.611+0.473j,  0.000+0.j   ]],", 
        "", 
        "        [[ 0.000+0.j   ,  0.000+0.j   ],", 
        "         [ 0.000+0.j   ,  0.000+0.j   ],", 
        "         [ 0.000+0.j   ,  0.000+0.j   ]]],", 
        "", 
        "", 
        "       [[[ 0.631+0.125j,  0.000+0.j   ],", 
        "         [-0.493+0.464j,  0.000+0.j   ],", 
        "         [-0.029-0.357j,  0.000+0.j   ]],", 
        "", 
        "        [[ 0.000+0.j   ,  0.000+0.j   ],", 
        "         [ 0.000+0.j   ,  0.000+0.j   ],", 
        "         [ 0.000+0.j   ,  0.000+0.j   ]]]]))"
       ]
      }
     ], 
     "prompt_number": 3
    }, 
    {
     "cell_type": "code", 
     "collapsed": false, 
     "input": [
      "0.1 ** (np.get_printoptions()['precision'] + 0.5)"
     ], 
     "language": "python", 
     "outputs": [
      {
       "output_type": "pyout", 
       "prompt_number": 4, 
       "text": [
        "0.000316227766016838"
       ]
      }
     ], 
     "prompt_number": 4
    }, 
    {
     "cell_type": "code", 
     "collapsed": true, 
     "input": [], 
     "language": "python", 
     "outputs": [], 
     "prompt_number": 4
    }
   ]
  }
 ]
}