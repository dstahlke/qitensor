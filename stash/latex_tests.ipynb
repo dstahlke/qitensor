{
 "metadata": {
  "name": "latex_tests"
 },
 "nbformat": 3,
 "nbformat_minor": 0,
 "worksheets": [
  {
   "cells": [
    {
     "cell_type": "code",
     "collapsed": false,
     "input": [
      "import IPython.lib.latextools as lt\n",
      "from IPython.lib.latextools import latex_to_png\n",
      "\n",
      "class LatexRender(object):\n",
      "    def __init__(self, s):\n",
      "        self.s = s\n",
      "        \n",
      "    def _repr_png_(self):\n",
      "        # As matplotlib does not support display style, dvipng backend is used here.\n",
      "        png = latex_to_png(self.s, backend='dvipng', wrap=True)\n",
      "        return png"
     ],
     "language": "python",
     "metadata": {},
     "outputs": [],
     "prompt_number": 1
    },
    {
     "cell_type": "code",
     "collapsed": false,
     "input": [
      "LatexRender('\\\\color{red}{x}')"
     ],
     "language": "python",
     "metadata": {},
     "outputs": [
      {
       "output_type": "pyout",
       "png": "[encoded data removed]",
       "prompt_number": 3,
       "text": [
        "<__main__.LatexRender object at 0x4fce210>"
       ]
      }
     ],
     "prompt_number": 3
    },
    {
     "cell_type": "code",
     "collapsed": false,
     "input": [
      "'\\n'.join(lt.genelatex('\\\\color{yellow}{0}', True))"
     ],
     "language": "python",
     "metadata": {},
     "outputs": [
      {
       "output_type": "pyout",
       "prompt_number": 33,
       "text": [
        "\n",
        "\\documentclass{article}\n",
        "  \\usepackage{amsmath} \n",
        "  \\usepackage{amsthm}  \n",
        "  \\usepackage{amssymb} \n",
        "    \\usepackage{bm}    \n",
        "   \\usepackage{breqn}  \n",
        "   \\pagestyle{empty}   \n",
        "    \\begin{document}   \n",
        "     \\begin{dmath*}    \n",
        "     \\color{red}{x}    \n",
        "      \\end{dmath*}     \n",
        "     \\end{document}    "
       ]
      }
     ],
     "prompt_number": 33
    },
    {
     "cell_type": "code",
     "collapsed": false,
     "input": [
      "IPython.lib.latextools.genelatex??"
     ],
     "language": "python",
     "metadata": {},
     "outputs": [],
     "prompt_number": 27
    },
    {
     "cell_type": "code",
     "collapsed": false,
     "input": [],
     "language": "python",
     "metadata": {},
     "outputs": []
    }
   ],
   "metadata": {}
  }
 ]
}