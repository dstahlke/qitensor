{
 "metadata": {
  "name": "qitensor_sympy"
 },
 "nbformat": 3,
 "nbformat_minor": 0,
 "worksheets": [
  {
   "cells": [
    {
     "cell_type": "code",
     "collapsed": false,
     "input": [
      "import sympy\n",
      "ha = qubit('a', latex_label='\\\\alpha', dtype=sympy)\n",
      "hb = qubit('b', latex_label='\\\\beta', dtype=sympy)\n",
      "sympy.var('x,y')"
     ],
     "language": "python",
     "metadata": {},
     "outputs": [
      {
       "latex": [
        "$$\\begin{pmatrix}x, & y\\end{pmatrix}$$"
       ],
       "output_type": "pyout",
       "prompt_number": 1,
       "text": [
        "(x, y)"
       ]
      }
     ],
     "prompt_number": 1
    },
    {
     "cell_type": "code",
     "collapsed": false,
     "input": [
      "U=x*ha.fourier()\n",
      "U"
     ],
     "language": "python",
     "metadata": {},
     "outputs": [
      {
       "html": [
        "<table style='margin: 0px 0px;'>\n",
        "<colgroup style='border: 2px solid black;'></colgroup>\n",
        "<colgroup span=2 style='border: 2px solid black;'></colgroup>\n",
        "<tbody style='border: 2px solid black;'>\n",
        "<tr style='border: 1px dotted; padding: 2px;'><td style='border: 1px dotted; padding: 2px; text-align: center;'> </td><td style='border: 1px dotted; padding: 2px; text-align: center;'><nobr>$\\scriptsize{\\left< 0_{\\alpha} \\right|}$</nobr></td><td style='border: 1px dotted; padding: 2px; text-align: center;'><nobr>$\\scriptsize{\\left< 1_{\\alpha} \\right|}$</nobr></td></tr>\n",
        "</tbody>\n",
        "<tr style='border: 1px dotted; padding: 2px;'><td style='border: 1px dotted; padding: 2px; text-align: center;'><nobr>$\\scriptsize{\\left| 0_{\\alpha} \\right>}$</nobr></td><td style='border: 1px dotted; padding: 2px; text-align: right;'><nobr><tt>$\\frac{1}{2} \\sqrt{2} x$</tt></nobr></td><td style='border: 1px dotted; padding: 2px; text-align: right;'><nobr><tt>$\\frac{1}{2} \\sqrt{2} x$</tt></nobr></td></tr>\n",
        "<tr style='border: 1px dotted; padding: 2px;'><td style='border: 1px dotted; padding: 2px; text-align: center;'><nobr>$\\scriptsize{\\left| 1_{\\alpha} \\right>}$</nobr></td><td style='border: 1px dotted; padding: 2px; text-align: right;'><nobr><tt>$\\frac{1}{2} \\sqrt{2} x$</tt></nobr></td><td style='border: 1px dotted; padding: 2px; text-align: right;'><nobr><tt>$- \\frac{1}{2} \\sqrt{2} x$</tt></nobr></td></tr>\n",
        "</tbody>\n",
        "</table>\n"
       ],
       "output_type": "pyout",
       "prompt_number": 2,
       "text": [
        "\n",
        "            |a><a|            \n",
        " [[2**(1/2)*x/2 2**(1/2)*x/2] \n",
        " [2**(1/2)*x/2 -2**(1/2)*x/2]]"
       ]
      }
     ],
     "prompt_number": 2
    },
    {
     "cell_type": "code",
     "collapsed": false,
     "input": [
      "s = ha.array([1, x])\n",
      "t = hb.array([1, y])\n",
      "rho = (s*t).O\n",
      "rho"
     ],
     "language": "python",
     "metadata": {},
     "outputs": [
      {
       "html": [
        "<table style='margin: 0px 0px;'>\n",
        "<colgroup style='border: 2px solid black;'></colgroup>\n",
        "<colgroup span=2 style='border: 2px solid black;'></colgroup>\n",
        "<colgroup span=2 style='border: 2px solid black;'></colgroup>\n",
        "<tbody style='border: 2px solid black;'>\n",
        "<tr style='border: 1px dotted; padding: 2px;'><td style='border: 1px dotted; padding: 2px; text-align: center;'> </td><td style='border: 1px dotted; padding: 2px; text-align: center;'><nobr>$\\scriptsize{\\left< 0_{\\alpha}0_{\\beta} \\right|}$</nobr></td><td style='border: 1px dotted; padding: 2px; text-align: center;'><nobr>$\\scriptsize{\\left< 0_{\\alpha}1_{\\beta} \\right|}$</nobr></td><td style='border: 1px dotted; padding: 2px; text-align: center;'><nobr>$\\scriptsize{\\left< 1_{\\alpha}0_{\\beta} \\right|}$</nobr></td><td style='border: 1px dotted; padding: 2px; text-align: center;'><nobr>$\\scriptsize{\\left< 1_{\\alpha}1_{\\beta} \\right|}$</nobr></td></tr>\n",
        "</tbody>\n",
        "<tbody style='border: 2px solid black;'>\n",
        "<tr style='border: 1px dotted; padding: 2px;'><td style='border: 1px dotted; padding: 2px; text-align: center;'><nobr>$\\scriptsize{\\left| 0_{\\alpha}0_{\\beta} \\right>}$</nobr></td><td style='border: 1px dotted; padding: 2px; text-align: right;'><nobr><tt>$1$</tt></nobr></td><td style='border: 1px dotted; padding: 2px; text-align: right;'><nobr><tt>$\\overline{y}$</tt></nobr></td><td style='border: 1px dotted; padding: 2px; text-align: right;'><nobr><tt>$\\overline{x}$</tt></nobr></td><td style='border: 1px dotted; padding: 2px; text-align: right;'><nobr><tt>$\\overline{x} \\overline{y}$</tt></nobr></td></tr>\n",
        "<tr style='border: 1px dotted; padding: 2px;'><td style='border: 1px dotted; padding: 2px; text-align: center;'><nobr>$\\scriptsize{\\left| 0_{\\alpha}1_{\\beta} \\right>}$</nobr></td><td style='border: 1px dotted; padding: 2px; text-align: right;'><nobr><tt>$y$</tt></nobr></td><td style='border: 1px dotted; padding: 2px; text-align: right;'><nobr><tt>$y \\overline{y}$</tt></nobr></td><td style='border: 1px dotted; padding: 2px; text-align: right;'><nobr><tt>$y \\overline{x}$</tt></nobr></td><td style='border: 1px dotted; padding: 2px; text-align: right;'><nobr><tt>$y \\overline{x} \\overline{y}$</tt></nobr></td></tr>\n",
        "</tbody>\n",
        "<tbody style='border: 2px solid black;'>\n",
        "<tr style='border: 1px dotted; padding: 2px;'><td style='border: 1px dotted; padding: 2px; text-align: center;'><nobr>$\\scriptsize{\\left| 1_{\\alpha}0_{\\beta} \\right>}$</nobr></td><td style='border: 1px dotted; padding: 2px; text-align: right;'><nobr><tt>$x$</tt></nobr></td><td style='border: 1px dotted; padding: 2px; text-align: right;'><nobr><tt>$x \\overline{y}$</tt></nobr></td><td style='border: 1px dotted; padding: 2px; text-align: right;'><nobr><tt>$x \\overline{x}$</tt></nobr></td><td style='border: 1px dotted; padding: 2px; text-align: right;'><nobr><tt>$x \\overline{x} \\overline{y}$</tt></nobr></td></tr>\n",
        "<tr style='border: 1px dotted; padding: 2px;'><td style='border: 1px dotted; padding: 2px; text-align: center;'><nobr>$\\scriptsize{\\left| 1_{\\alpha}1_{\\beta} \\right>}$</nobr></td><td style='border: 1px dotted; padding: 2px; text-align: right;'><nobr><tt>$x y$</tt></nobr></td><td style='border: 1px dotted; padding: 2px; text-align: right;'><nobr><tt>$x y \\overline{y}$</tt></nobr></td><td style='border: 1px dotted; padding: 2px; text-align: right;'><nobr><tt>$x y \\overline{x}$</tt></nobr></td><td style='border: 1px dotted; padding: 2px; text-align: right;'><nobr><tt>$x y \\overline{x} \\overline{y}$</tt></nobr></td></tr>\n",
        "</tbody>\n",
        "</table>\n"
       ],
       "output_type": "pyout",
       "prompt_number": 3,
       "text": [
        "\n",
        "                      |a,b><a,b|                      \n",
        "                 [[[[1 conjugate(y)]                  \n",
        "        [conjugate(x) conjugate(x)*conjugate(y)]]     \n",
        "                                                      \n",
        "                  [[y y*conjugate(y)]                 \n",
        "     [y*conjugate(x) y*conjugate(x)*conjugate(y)]]]   \n",
        "                                                      \n",
        "                                                      \n",
        "                 [[[x x*conjugate(y)]                 \n",
        "      [x*conjugate(x) x*conjugate(x)*conjugate(y)]]   \n",
        "                                                      \n",
        "                [[x*y x*y*conjugate(y)]               \n",
        "   [x*y*conjugate(x) x*y*conjugate(x)*conjugate(y)]]]]"
       ]
      }
     ],
     "prompt_number": 3
    },
    {
     "cell_type": "code",
     "collapsed": false,
     "input": [
      "U = (ha * hb).eye() \n",
      "# arrays can be indexed using dictionaries\n",
      "U[{ ha: 0, ha.H: 0, hb: 0, hb.H: 0 }] = x \n",
      "U[{ ha: 0, ha.H: 0, hb: 0, hb.H: 1 }] = y \n",
      "U \n"
     ],
     "language": "python",
     "metadata": {},
     "outputs": [
      {
       "html": [
        "<table style='margin: 0px 0px;'>\n",
        "<colgroup style='border: 2px solid black;'></colgroup>\n",
        "<colgroup span=2 style='border: 2px solid black;'></colgroup>\n",
        "<colgroup span=2 style='border: 2px solid black;'></colgroup>\n",
        "<tbody style='border: 2px solid black;'>\n",
        "<tr style='border: 1px dotted; padding: 2px;'><td style='border: 1px dotted; padding: 2px; text-align: center;'> </td><td style='border: 1px dotted; padding: 2px; text-align: center;'><nobr>$\\scriptsize{\\left< 0_{\\alpha}0_{\\beta} \\right|}$</nobr></td><td style='border: 1px dotted; padding: 2px; text-align: center;'><nobr>$\\scriptsize{\\left< 0_{\\alpha}1_{\\beta} \\right|}$</nobr></td><td style='border: 1px dotted; padding: 2px; text-align: center;'><nobr>$\\scriptsize{\\left< 1_{\\alpha}0_{\\beta} \\right|}$</nobr></td><td style='border: 1px dotted; padding: 2px; text-align: center;'><nobr>$\\scriptsize{\\left< 1_{\\alpha}1_{\\beta} \\right|}$</nobr></td></tr>\n",
        "</tbody>\n",
        "<tbody style='border: 2px solid black;'>\n",
        "<tr style='border: 1px dotted; padding: 2px;'><td style='border: 1px dotted; padding: 2px; text-align: center;'><nobr>$\\scriptsize{\\left| 0_{\\alpha}0_{\\beta} \\right>}$</nobr></td><td style='border: 1px dotted; padding: 2px; text-align: right;'><nobr><tt>$x$</tt></nobr></td><td style='border: 1px dotted; padding: 2px; text-align: right;'><nobr><tt>$y$</tt></nobr></td><td style='border: 1px dotted; padding: 2px; text-align: right;'><font color='#cccccc'>0</font></td><td style='border: 1px dotted; padding: 2px; text-align: right;'><font color='#cccccc'>0</font></td></tr>\n",
        "<tr style='border: 1px dotted; padding: 2px;'><td style='border: 1px dotted; padding: 2px; text-align: center;'><nobr>$\\scriptsize{\\left| 0_{\\alpha}1_{\\beta} \\right>}$</nobr></td><td style='border: 1px dotted; padding: 2px; text-align: right;'><font color='#cccccc'>0</font></td><td style='border: 1px dotted; padding: 2px; text-align: right;'><nobr><tt>$1$</tt></nobr></td><td style='border: 1px dotted; padding: 2px; text-align: right;'><font color='#cccccc'>0</font></td><td style='border: 1px dotted; padding: 2px; text-align: right;'><font color='#cccccc'>0</font></td></tr>\n",
        "</tbody>\n",
        "<tbody style='border: 2px solid black;'>\n",
        "<tr style='border: 1px dotted; padding: 2px;'><td style='border: 1px dotted; padding: 2px; text-align: center;'><nobr>$\\scriptsize{\\left| 1_{\\alpha}0_{\\beta} \\right>}$</nobr></td><td style='border: 1px dotted; padding: 2px; text-align: right;'><font color='#cccccc'>0</font></td><td style='border: 1px dotted; padding: 2px; text-align: right;'><font color='#cccccc'>0</font></td><td style='border: 1px dotted; padding: 2px; text-align: right;'><nobr><tt>$1$</tt></nobr></td><td style='border: 1px dotted; padding: 2px; text-align: right;'><font color='#cccccc'>0</font></td></tr>\n",
        "<tr style='border: 1px dotted; padding: 2px;'><td style='border: 1px dotted; padding: 2px; text-align: center;'><nobr>$\\scriptsize{\\left| 1_{\\alpha}1_{\\beta} \\right>}$</nobr></td><td style='border: 1px dotted; padding: 2px; text-align: right;'><font color='#cccccc'>0</font></td><td style='border: 1px dotted; padding: 2px; text-align: right;'><font color='#cccccc'>0</font></td><td style='border: 1px dotted; padding: 2px; text-align: right;'><font color='#cccccc'>0</font></td><td style='border: 1px dotted; padding: 2px; text-align: right;'><nobr><tt>$1$</tt></nobr></td></tr>\n",
        "</tbody>\n",
        "</table>\n"
       ],
       "output_type": "pyout",
       "prompt_number": 4,
       "text": [
        "\n",
        " |a,b><a,b|\n",
        "  [[[[x y] \n",
        "    [0 0]] \n",
        "           \n",
        "    [[0 1] \n",
        "    [0 0]]]\n",
        "           \n",
        "           \n",
        "   [[[0 0] \n",
        "    [1 0]] \n",
        "           \n",
        "    [[0 0] \n",
        "   [0 1]]]]"
       ]
      }
     ],
     "prompt_number": 4
    },
    {
     "cell_type": "code",
     "collapsed": false,
     "input": [
      "U.I"
     ],
     "language": "python",
     "metadata": {},
     "outputs": [
      {
       "html": [
        "<table style='margin: 0px 0px;'>\n",
        "<colgroup style='border: 2px solid black;'></colgroup>\n",
        "<colgroup span=2 style='border: 2px solid black;'></colgroup>\n",
        "<colgroup span=2 style='border: 2px solid black;'></colgroup>\n",
        "<tbody style='border: 2px solid black;'>\n",
        "<tr style='border: 1px dotted; padding: 2px;'><td style='border: 1px dotted; padding: 2px; text-align: center;'> </td><td style='border: 1px dotted; padding: 2px; text-align: center;'><nobr>$\\scriptsize{\\left< 0_{\\alpha}0_{\\beta} \\right|}$</nobr></td><td style='border: 1px dotted; padding: 2px; text-align: center;'><nobr>$\\scriptsize{\\left< 0_{\\alpha}1_{\\beta} \\right|}$</nobr></td><td style='border: 1px dotted; padding: 2px; text-align: center;'><nobr>$\\scriptsize{\\left< 1_{\\alpha}0_{\\beta} \\right|}$</nobr></td><td style='border: 1px dotted; padding: 2px; text-align: center;'><nobr>$\\scriptsize{\\left< 1_{\\alpha}1_{\\beta} \\right|}$</nobr></td></tr>\n",
        "</tbody>\n",
        "<tbody style='border: 2px solid black;'>\n",
        "<tr style='border: 1px dotted; padding: 2px;'><td style='border: 1px dotted; padding: 2px; text-align: center;'><nobr>$\\scriptsize{\\left| 0_{\\alpha}0_{\\beta} \\right>}$</nobr></td><td style='border: 1px dotted; padding: 2px; text-align: right;'><nobr><tt>$\\frac{1}{x}$</tt></nobr></td><td style='border: 1px dotted; padding: 2px; text-align: right;'><nobr><tt>$- \\frac{y}{x}$</tt></nobr></td><td style='border: 1px dotted; padding: 2px; text-align: right;'><font color='#cccccc'>0</font></td><td style='border: 1px dotted; padding: 2px; text-align: right;'><font color='#cccccc'>0</font></td></tr>\n",
        "<tr style='border: 1px dotted; padding: 2px;'><td style='border: 1px dotted; padding: 2px; text-align: center;'><nobr>$\\scriptsize{\\left| 0_{\\alpha}1_{\\beta} \\right>}$</nobr></td><td style='border: 1px dotted; padding: 2px; text-align: right;'><font color='#cccccc'>0</font></td><td style='border: 1px dotted; padding: 2px; text-align: right;'><nobr><tt>$1$</tt></nobr></td><td style='border: 1px dotted; padding: 2px; text-align: right;'><font color='#cccccc'>0</font></td><td style='border: 1px dotted; padding: 2px; text-align: right;'><font color='#cccccc'>0</font></td></tr>\n",
        "</tbody>\n",
        "<tbody style='border: 2px solid black;'>\n",
        "<tr style='border: 1px dotted; padding: 2px;'><td style='border: 1px dotted; padding: 2px; text-align: center;'><nobr>$\\scriptsize{\\left| 1_{\\alpha}0_{\\beta} \\right>}$</nobr></td><td style='border: 1px dotted; padding: 2px; text-align: right;'><font color='#cccccc'>0</font></td><td style='border: 1px dotted; padding: 2px; text-align: right;'><font color='#cccccc'>0</font></td><td style='border: 1px dotted; padding: 2px; text-align: right;'><nobr><tt>$1$</tt></nobr></td><td style='border: 1px dotted; padding: 2px; text-align: right;'><font color='#cccccc'>0</font></td></tr>\n",
        "<tr style='border: 1px dotted; padding: 2px;'><td style='border: 1px dotted; padding: 2px; text-align: center;'><nobr>$\\scriptsize{\\left| 1_{\\alpha}1_{\\beta} \\right>}$</nobr></td><td style='border: 1px dotted; padding: 2px; text-align: right;'><font color='#cccccc'>0</font></td><td style='border: 1px dotted; padding: 2px; text-align: right;'><font color='#cccccc'>0</font></td><td style='border: 1px dotted; padding: 2px; text-align: right;'><font color='#cccccc'>0</font></td><td style='border: 1px dotted; padding: 2px; text-align: right;'><nobr><tt>$1$</tt></nobr></td></tr>\n",
        "</tbody>\n",
        "</table>\n"
       ],
       "output_type": "pyout",
       "prompt_number": 5,
       "text": [
        "\n",
        "  |a,b><a,b| \n",
        "[[[[1/x -y/x]\n",
        "     [0 0]]  \n",
        "             \n",
        "     [[0 1]  \n",
        "     [0 0]]] \n",
        "             \n",
        "             \n",
        "    [[[0 0]  \n",
        "     [1 0]]  \n",
        "             \n",
        "     [[0 0]  \n",
        "    [0 1]]]] "
       ]
      }
     ],
     "prompt_number": 5
    },
    {
     "cell_type": "code",
     "collapsed": false,
     "input": [
      "U * U.I"
     ],
     "language": "python",
     "metadata": {},
     "outputs": [
      {
       "html": [
        "<table style='margin: 0px 0px;'>\n",
        "<colgroup style='border: 2px solid black;'></colgroup>\n",
        "<colgroup span=2 style='border: 2px solid black;'></colgroup>\n",
        "<colgroup span=2 style='border: 2px solid black;'></colgroup>\n",
        "<tbody style='border: 2px solid black;'>\n",
        "<tr style='border: 1px dotted; padding: 2px;'><td style='border: 1px dotted; padding: 2px; text-align: center;'> </td><td style='border: 1px dotted; padding: 2px; text-align: center;'><nobr>$\\scriptsize{\\left< 0_{\\alpha}0_{\\beta} \\right|}$</nobr></td><td style='border: 1px dotted; padding: 2px; text-align: center;'><nobr>$\\scriptsize{\\left< 0_{\\alpha}1_{\\beta} \\right|}$</nobr></td><td style='border: 1px dotted; padding: 2px; text-align: center;'><nobr>$\\scriptsize{\\left< 1_{\\alpha}0_{\\beta} \\right|}$</nobr></td><td style='border: 1px dotted; padding: 2px; text-align: center;'><nobr>$\\scriptsize{\\left< 1_{\\alpha}1_{\\beta} \\right|}$</nobr></td></tr>\n",
        "</tbody>\n",
        "<tbody style='border: 2px solid black;'>\n",
        "<tr style='border: 1px dotted; padding: 2px;'><td style='border: 1px dotted; padding: 2px; text-align: center;'><nobr>$\\scriptsize{\\left| 0_{\\alpha}0_{\\beta} \\right>}$</nobr></td><td style='border: 1px dotted; padding: 2px; text-align: right;'><nobr><tt>$1$</tt></nobr></td><td style='border: 1px dotted; padding: 2px; text-align: right;'><font color='#cccccc'>0</font></td><td style='border: 1px dotted; padding: 2px; text-align: right;'><font color='#cccccc'>0</font></td><td style='border: 1px dotted; padding: 2px; text-align: right;'><font color='#cccccc'>0</font></td></tr>\n",
        "<tr style='border: 1px dotted; padding: 2px;'><td style='border: 1px dotted; padding: 2px; text-align: center;'><nobr>$\\scriptsize{\\left| 0_{\\alpha}1_{\\beta} \\right>}$</nobr></td><td style='border: 1px dotted; padding: 2px; text-align: right;'><font color='#cccccc'>0</font></td><td style='border: 1px dotted; padding: 2px; text-align: right;'><nobr><tt>$1$</tt></nobr></td><td style='border: 1px dotted; padding: 2px; text-align: right;'><font color='#cccccc'>0</font></td><td style='border: 1px dotted; padding: 2px; text-align: right;'><font color='#cccccc'>0</font></td></tr>\n",
        "</tbody>\n",
        "<tbody style='border: 2px solid black;'>\n",
        "<tr style='border: 1px dotted; padding: 2px;'><td style='border: 1px dotted; padding: 2px; text-align: center;'><nobr>$\\scriptsize{\\left| 1_{\\alpha}0_{\\beta} \\right>}$</nobr></td><td style='border: 1px dotted; padding: 2px; text-align: right;'><font color='#cccccc'>0</font></td><td style='border: 1px dotted; padding: 2px; text-align: right;'><font color='#cccccc'>0</font></td><td style='border: 1px dotted; padding: 2px; text-align: right;'><nobr><tt>$1$</tt></nobr></td><td style='border: 1px dotted; padding: 2px; text-align: right;'><font color='#cccccc'>0</font></td></tr>\n",
        "<tr style='border: 1px dotted; padding: 2px;'><td style='border: 1px dotted; padding: 2px; text-align: center;'><nobr>$\\scriptsize{\\left| 1_{\\alpha}1_{\\beta} \\right>}$</nobr></td><td style='border: 1px dotted; padding: 2px; text-align: right;'><font color='#cccccc'>0</font></td><td style='border: 1px dotted; padding: 2px; text-align: right;'><font color='#cccccc'>0</font></td><td style='border: 1px dotted; padding: 2px; text-align: right;'><font color='#cccccc'>0</font></td><td style='border: 1px dotted; padding: 2px; text-align: right;'><nobr><tt>$1$</tt></nobr></td></tr>\n",
        "</tbody>\n",
        "</table>\n"
       ],
       "output_type": "pyout",
       "prompt_number": 6,
       "text": [
        "\n",
        " |a,b><a,b|\n",
        "  [[[[1 0] \n",
        "    [0 0]] \n",
        "           \n",
        "    [[0 1] \n",
        "    [0 0]]]\n",
        "           \n",
        "           \n",
        "   [[[0 0] \n",
        "    [1 0]] \n",
        "           \n",
        "    [[0 0] \n",
        "   [0 1]]]]"
       ]
      }
     ],
     "prompt_number": 6
    },
    {
     "cell_type": "code",
     "collapsed": false,
     "input": [
      "ha"
     ],
     "language": "python",
     "metadata": {},
     "outputs": [
      {
       "latex": [
        "$\\left| \\alpha \\right\\rangle$"
       ],
       "output_type": "pyout",
       "prompt_number": 7,
       "text": [
        "|a>"
       ]
      }
     ],
     "prompt_number": 7
    },
    {
     "cell_type": "code",
     "collapsed": false,
     "input": [],
     "language": "python",
     "metadata": {},
     "outputs": []
    }
   ],
   "metadata": {}
  }
 ]
}